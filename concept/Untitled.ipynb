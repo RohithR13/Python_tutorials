{
 "cells": [
  {
   "cell_type": "code",
   "execution_count": 1,
   "metadata": {},
   "outputs": [
    {
     "name": "stdout",
     "output_type": "stream",
     "text": [
      "Trying:\n",
      "    factorial(3) \n",
      "Expecting:\n",
      "    6 \n",
      "**********************************************************************\n",
      "File \"__main__\", line 9, in factorial.factorial\n",
      "Failed example:\n",
      "    factorial(3) \n",
      "Expected:\n",
      "    6 \n",
      "Got:\n",
      "    6\n",
      "Trying:\n",
      "    factorial(5) \n",
      "Expecting:\n",
      "    120 \n",
      "**********************************************************************\n",
      "File \"__main__\", line 11, in factorial.factorial\n",
      "Failed example:\n",
      "    factorial(5) \n",
      "Expected:\n",
      "    120 \n",
      "Got:\n",
      "    120\n",
      "1 items had no tests:\n",
      "    factorial\n",
      "**********************************************************************\n",
      "1 items had failures:\n",
      "   2 of   2 in factorial.factorial\n",
      "2 tests in 2 items.\n",
      "0 passed and 2 failed.\n",
      "***Test Failed*** 2 failures.\n"
     ]
    }
   ],
   "source": [
    "from doctest import testmod \n",
    "  \n",
    "# define a function to test \n",
    "def factorial(n): \n",
    "    ''' \n",
    "    This function calculates recursively and \n",
    "    returns the factorial of a positive number. \n",
    "    Define input and expected output: \n",
    "    >>> factorial(3) \n",
    "    6 \n",
    "    >>> factorial(5) \n",
    "    120 \n",
    "    '''\n",
    "    if n <= 1: \n",
    "        return 1\n",
    "    return n * factorial(n - 1) \n",
    "  \n",
    "# call the testmod function \n",
    "if __name__ == '__main__': \n",
    "    testmod(name ='factorial', verbose = True)"
   ]
  },
  {
   "cell_type": "code",
   "execution_count": 1,
   "metadata": {},
   "outputs": [],
   "source": [
    "%config Completer.use_jedi = False\n",
    "\n",
    "\n"
   ]
  },
  {
   "cell_type": "code",
   "execution_count": null,
   "metadata": {},
   "outputs": [],
   "source": []
  }
 ],
 "metadata": {
  "kernelspec": {
   "display_name": "Python 3",
   "language": "python",
   "name": "python3"
  },
  "language_info": {
   "codemirror_mode": {
    "name": "ipython",
    "version": 3
   },
   "file_extension": ".py",
   "mimetype": "text/x-python",
   "name": "python",
   "nbconvert_exporter": "python",
   "pygments_lexer": "ipython3",
   "version": "3.8.3"
  }
 },
 "nbformat": 4,
 "nbformat_minor": 4
}
